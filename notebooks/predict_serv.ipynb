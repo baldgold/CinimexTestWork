{
 "cells": [
  {
   "cell_type": "code",
   "execution_count": null,
   "metadata": {},
   "outputs": [],
   "source": [
    "import sqlfile\n",
    "# import model\n",
    "import data_serv\n",
    "\n",
    "\n",
    "def error_in_input(session_id):\n",
    "    if session_id[0] != 'u':\n",
    "        print('Ошибка!!! Некорректный session_id! Попробуйте ещё раз.')\n",
    "        return True\n",
    "    elif session_id[1:] > '40000':\n",
    "        print('Ошибка!!! Слишком большой session_id, такой не существует! Попробуйте ещё раз.')\n",
    "        return True\n",
    "    elif session_id[1:] < '10001':\n",
    "        print('Ошибка!!! Слишком маленький session_id, такой не существует! Попробуйте ещё раз.')\n",
    "        return True\n",
    "\n",
    "    return False\n",
    "\n",
    "\n",
    "def predict_user_gender(session_id, version):\n",
    "    predict = data_serv.sql_request(session_id, version)\n",
    "    return predict\n",
    "\n",
    "\n",
    "def input_session_id_and_predict_gender(arg=None, version=None):\n",
    "    sqlfile.connection_with_database()\n",
    "    \"\"\"\n",
    "    Функция, которая принимает на вход session_id и предсказывает ПОЛ пользователя.\n",
    "\n",
    "    :param arg: итерируемый объект, который содержит session_id. Параметр создан для удобства отладки, так как можно подать на вход коллекцию session_id, а не вводить по 1 штуке за вызов функции.\n",
    "    :param version: Имеется 3 версии работы функции:\n",
    "    \\n\\tversion = None -> стандартный вызов функции, при котором будет возвращен предположенный пол пользователя.\n",
    "    \\n\\tversion = 'avg' -> функция вернёт список, который содержит 4 словаря, которые содержат категории сайтов и сколько раз на каждый из них заходил пользователь\n",
    "    \\n\\tversion = 'percent' -> функция вернёт так же список словарей, только количество посещений каждой категории будет выражено процентым соотношением, числом от 0.01 до 1, где 0.01 = 1%, а 1 = 100%\n",
    "\n",
    "    :return: str() -> будет предсказан пол пользователя: 'female' или 'male'\n",
    "    \"\"\"\n",
    "\n",
    "    if arg is None:\n",
    "        session_id = input('Введите идентификатор сессии для которого будет предсказан пол: ').strip().lower()\n",
    "        if error_in_input(session_id) is True: return\n",
    "    else:\n",
    "        session_id = arg\n",
    "    predict = predict_user_gender(session_id, version)\n",
    "    print(f'Пользователь c session_id = {session_id}: ', predict)\n",
    "    return predict\n",
    "\n",
    "\n",
    "def main():\n",
    "    input_session_id_and_predict_gender()\n",
    "    pass\n",
    "\n",
    "\n",
    "if __name__ == '__main__':\n",
    "    main()\n"
   ]
  }
 ],
 "metadata": {
  "kernelspec": {
   "display_name": "Python 3",
   "language": "python",
   "name": "python3"
  },
  "language_info": {
   "codemirror_mode": {
    "name": "ipython",
    "version": 3
   },
   "file_extension": ".py",
   "mimetype": "text/x-python",
   "name": "python",
   "nbconvert_exporter": "python",
   "pygments_lexer": "ipython3",
   "version": "3.8.3"
  }
 },
 "nbformat": 4,
 "nbformat_minor": 4
}
